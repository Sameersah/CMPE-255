{
  "nbformat": 4,
  "nbformat_minor": 0,
  "metadata": {
    "colab": {
      "provenance": [],
      "authorship_tag": "ABX9TyPuJcSdrrI4wifNgPqbF6r5",
      "include_colab_link": true
    },
    "kernelspec": {
      "name": "python3",
      "display_name": "Python 3"
    },
    "language_info": {
      "name": "python"
    }
  },
  "cells": [
    {
      "cell_type": "markdown",
      "metadata": {
        "id": "view-in-github",
        "colab_type": "text"
      },
      "source": [
        "<a href=\"https://colab.research.google.com/github/Sameersah/CMPE-255/blob/main/Advanced_Google_Colaboratory_Korakot_Chaovavanich.ipynb\" target=\"_parent\"><img src=\"https://colab.research.google.com/assets/colab-badge.svg\" alt=\"Open In Colab\"/></a>"
      ]
    },
    {
      "cell_type": "code",
      "execution_count": null,
      "metadata": {
        "id": "fRBIkLSsj3bh"
      },
      "outputs": [],
      "source": []
    },
    {
      "cell_type": "markdown",
      "source": [
        "# 6 Advace Colab Skills"
      ],
      "metadata": {
        "id": "U-bERCAHj8--"
      }
    },
    {
      "cell_type": "markdown",
      "source": [
        "\n",
        "1. How to get data ?\n",
        "2. How Convert and read data ?\n",
        "3. How to connect Google drive and mount?\n",
        "4. Google account authntication.\n",
        "5. Form and Interactions.\n",
        "6. How to get libraries ?\n",
        "\n",
        "\n",
        "\n",
        "\n"
      ],
      "metadata": {
        "id": "CUYfjagukF--"
      }
    },
    {
      "cell_type": "markdown",
      "source": [
        "## How to get Data ?\n",
        "\n",
        "google drive\n",
        "google sheet\n",
        "Wget"
      ],
      "metadata": {
        "id": "VwFEuEuJlQRk"
      }
    },
    {
      "cell_type": "code",
      "source": [
        "# copy data\n",
        "!wget -q https://dcc.ligo.org/public/0190/P2300352/014/gw230529-discovery-v14.pdf\n",
        "\n",
        "\n"
      ],
      "metadata": {
        "id": "vklhlWWxl9pm"
      },
      "execution_count": null,
      "outputs": []
    },
    {
      "cell_type": "markdown",
      "source": [
        "## How to convert and read data ?"
      ],
      "metadata": {
        "id": "bSfI9k85qRGg"
      }
    },
    {
      "cell_type": "code",
      "source": [
        "# unzip if coping a zip folder\n",
        "!unzip -j jdk-22.zip\n"
      ],
      "metadata": {
        "colab": {
          "base_uri": "https://localhost:8080/"
        },
        "id": "YOdiix4zqbbo",
        "outputId": "6d602c84-d1db-4173-ab8b-828834167d81"
      },
      "execution_count": null,
      "outputs": [
        {
          "output_type": "stream",
          "name": "stdout",
          "text": [
            "Archive:  jdk-22.zip\n",
            "  inflating: api-ms-win-core-console-l1-1-0.dll  \n",
            "  inflating: api-ms-win-core-console-l1-2-0.dll  \n",
            "  inflating: api-ms-win-core-datetime-l1-1-0.dll  \n",
            "  inflating: api-ms-win-core-debug-l1-1-0.dll  \n",
            "  inflating: api-ms-win-core-errorhandling-l1-1-0.dll  \n",
            "  inflating: api-ms-win-core-fibers-l1-1-0.dll  \n",
            "  inflating: api-ms-win-core-file-l1-1-0.dll  \n",
            "  inflating: api-ms-win-core-file-l1-2-0.dll  \n",
            "  inflating: api-ms-win-core-file-l2-1-0.dll  \n",
            "  inflating: api-ms-win-core-handle-l1-1-0.dll  \n",
            "  inflating: api-ms-win-core-heap-l1-1-0.dll  \n",
            "  inflating: api-ms-win-core-interlocked-l1-1-0.dll  \n",
            "  inflating: api-ms-win-core-libraryloader-l1-1-0.dll  \n",
            "  inflating: api-ms-win-core-localization-l1-2-0.dll  \n",
            "  inflating: api-ms-win-core-memory-l1-1-0.dll  \n",
            "  inflating: api-ms-win-core-namedpipe-l1-1-0.dll  \n",
            "  inflating: api-ms-win-core-processenvironment-l1-1-0.dll  \n",
            "  inflating: api-ms-win-core-processthreads-l1-1-0.dll  \n",
            "  inflating: api-ms-win-core-processthreads-l1-1-1.dll  \n",
            "  inflating: api-ms-win-core-profile-l1-1-0.dll  \n",
            "  inflating: api-ms-win-core-rtlsupport-l1-1-0.dll  \n",
            "  inflating: api-ms-win-core-string-l1-1-0.dll  \n",
            "  inflating: api-ms-win-core-synch-l1-1-0.dll  \n",
            "  inflating: api-ms-win-core-synch-l1-2-0.dll  \n",
            "  inflating: api-ms-win-core-sysinfo-l1-1-0.dll  \n",
            "  inflating: api-ms-win-core-timezone-l1-1-0.dll  \n",
            "  inflating: api-ms-win-core-util-l1-1-0.dll  \n",
            "  inflating: api-ms-win-crt-conio-l1-1-0.dll  \n",
            "  inflating: api-ms-win-crt-convert-l1-1-0.dll  \n",
            "  inflating: api-ms-win-crt-environment-l1-1-0.dll  \n",
            "  inflating: api-ms-win-crt-filesystem-l1-1-0.dll  \n",
            "  inflating: api-ms-win-crt-heap-l1-1-0.dll  \n",
            "  inflating: api-ms-win-crt-locale-l1-1-0.dll  \n",
            "  inflating: api-ms-win-crt-math-l1-1-0.dll  \n",
            "  inflating: api-ms-win-crt-multibyte-l1-1-0.dll  \n",
            "  inflating: api-ms-win-crt-private-l1-1-0.dll  \n",
            "  inflating: api-ms-win-crt-process-l1-1-0.dll  \n",
            "  inflating: api-ms-win-crt-runtime-l1-1-0.dll  \n",
            "  inflating: api-ms-win-crt-stdio-l1-1-0.dll  \n",
            "  inflating: api-ms-win-crt-string-l1-1-0.dll  \n",
            "  inflating: api-ms-win-crt-time-l1-1-0.dll  \n",
            "  inflating: api-ms-win-crt-utility-l1-1-0.dll  \n",
            "  inflating: attach.dll              \n",
            "  inflating: awt.dll                 \n",
            "  inflating: dt_shmem.dll            \n",
            "  inflating: dt_socket.dll           \n",
            "  inflating: extnet.dll              \n",
            "  inflating: fontmanager.dll         \n",
            "  inflating: freetype.dll            \n",
            "  inflating: instrument.dll          \n",
            "  inflating: j2gss.dll               \n",
            "  inflating: j2pcsc.dll              \n",
            "  inflating: j2pkcs11.dll            \n",
            "  inflating: jaas.dll                \n",
            "  inflating: jabswitch.exe           \n",
            "  inflating: jaccessinspector.exe    \n",
            "  inflating: jaccesswalker.exe       \n",
            "  inflating: jar.exe                 \n",
            "  inflating: jarsigner.exe           \n",
            "  inflating: java.dll                \n",
            "  inflating: java.exe                \n",
            "  inflating: javaaccessbridge.dll    \n",
            "  inflating: javac.exe               \n",
            "  inflating: javadoc.exe             \n",
            "  inflating: javajpeg.dll            \n",
            "  inflating: javap.exe               \n",
            "  inflating: javaw.exe               \n",
            "  inflating: jawt.dll                \n",
            "  inflating: jcmd.exe                \n",
            "  inflating: jconsole.exe            \n",
            "  inflating: jdb.exe                 \n",
            "  inflating: jdeprscan.exe           \n",
            "  inflating: jdeps.exe               \n",
            "  inflating: jdwp.dll                \n",
            "  inflating: jfr.exe                 \n",
            "  inflating: jhsdb.exe               \n",
            "  inflating: jimage.dll              \n",
            "  inflating: jimage.exe              \n",
            "  inflating: jinfo.exe               \n",
            "  inflating: jli.dll                 \n",
            "  inflating: jlink.exe               \n",
            "  inflating: jmap.exe                \n",
            "  inflating: jmod.exe                \n",
            "  inflating: jpackage.dll            \n",
            "  inflating: jpackage.exe            \n",
            "  inflating: jps.exe                 \n",
            "  inflating: jrunscript.exe          \n",
            "  inflating: jshell.exe              \n",
            "  inflating: jsound.dll              \n",
            "  inflating: jstack.exe              \n",
            "  inflating: jstat.exe               \n",
            "  inflating: jstatd.exe              \n",
            "  inflating: jsvml.dll               \n",
            "  inflating: jwebserver.exe          \n",
            "  inflating: keytool.exe             \n",
            "  inflating: kinit.exe               \n",
            "  inflating: klist.exe               \n",
            "  inflating: ktab.exe                \n",
            "  inflating: lcms.dll                \n",
            "  inflating: le.dll                  \n",
            "  inflating: management.dll          \n",
            "  inflating: management_agent.dll    \n",
            "  inflating: management_ext.dll      \n",
            "  inflating: mlib_image.dll          \n",
            "  inflating: msvcp140.dll            \n",
            "  inflating: net.dll                 \n",
            "  inflating: nio.dll                 \n",
            "  inflating: prefs.dll               \n",
            "  inflating: rmi.dll                 \n",
            "  inflating: rmiregistry.exe         \n",
            "  inflating: saproc.dll              \n",
            "  inflating: serialver.exe           \n",
            "  inflating: classes.jsa             \n",
            "  inflating: classes_nocoops.jsa     \n",
            "  inflating: jvm.dll                 \n",
            "  inflating: splashscreen.dll        \n",
            "  inflating: sspi_bridge.dll         \n",
            "  inflating: sunmscapi.dll           \n",
            "  inflating: syslookup.dll           \n",
            "  inflating: ucrtbase.dll            \n",
            "  inflating: vcruntime140.dll        \n",
            "  inflating: vcruntime140_1.dll      \n",
            "  inflating: verify.dll              \n",
            "  inflating: w2k_lsa_auth.dll        \n",
            "  inflating: windowsaccessbridge-64.dll  \n",
            "  inflating: zip.dll                 \n",
            "  inflating: jaxp.properties         \n",
            "  inflating: logging.properties      \n",
            "  inflating: jmxremote.access        \n",
            "  inflating: jmxremote.password.template  \n",
            "  inflating: management.properties   \n",
            "  inflating: net.properties          \n",
            "  inflating: java.policy             \n",
            "  inflating: java.security           \n",
            "  inflating: default_local.policy    \n",
            "  inflating: default_US_export.policy  \n",
            "  inflating: exempt_local.policy     \n",
            "  inflating: README.txt              \n",
            "replace default_local.policy? [y]es, [n]o, [A]ll, [N]one, [r]ename: "
          ]
        }
      ]
    },
    {
      "cell_type": "markdown",
      "source": [
        "## How to get data from Google Drive and how to Mount Google drive?"
      ],
      "metadata": {
        "id": "a-hz8BcCq3An"
      }
    },
    {
      "cell_type": "code",
      "source": [
        "#connect to google drive\n",
        "from google.colab import drive\n",
        "drive.mount(\"mount\")"
      ],
      "metadata": {
        "colab": {
          "base_uri": "https://localhost:8080/"
        },
        "id": "Wk5hQ9LZrqsc",
        "outputId": "4aa68b20-aae1-440d-9d11-dae83b7f3ba2"
      },
      "execution_count": null,
      "outputs": [
        {
          "output_type": "stream",
          "name": "stdout",
          "text": [
            "Drive already mounted at mount; to attempt to forcibly remount, call drive.mount(\"mount\", force_remount=True).\n"
          ]
        }
      ]
    },
    {
      "cell_type": "code",
      "source": [
        "!cp /content/mount/My\\Drive/sample2.json .\n",
        "!pwd"
      ],
      "metadata": {
        "colab": {
          "base_uri": "https://localhost:8080/"
        },
        "id": "LjQHOadQsno8",
        "outputId": "5fef7e6a-2d87-4b52-a81c-55b07a3185de"
      },
      "execution_count": null,
      "outputs": [
        {
          "output_type": "stream",
          "name": "stdout",
          "text": [
            "/content\n"
          ]
        }
      ]
    },
    {
      "cell_type": "code",
      "source": [
        "# download a public file\n",
        "\n",
        "!gdown --id 1HQ_zseIWb0N0XjNaYcd9FrUBNtqARpuN"
      ],
      "metadata": {
        "colab": {
          "base_uri": "https://localhost:8080/"
        },
        "id": "Ib37tbaSxPF-",
        "outputId": "e81a4292-da2c-4fd2-d4d9-947352b6dd87"
      },
      "execution_count": null,
      "outputs": [
        {
          "output_type": "stream",
          "name": "stdout",
          "text": [
            "/usr/local/lib/python3.10/dist-packages/gdown/__main__.py:132: FutureWarning: Option `--id` was deprecated in version 4.3.1 and will be removed in 5.0. You don't need to pass it anymore to use a file ID.\n",
            "  warnings.warn(\n",
            "Downloading...\n",
            "From: https://drive.google.com/uc?id=1HQ_zseIWb0N0XjNaYcd9FrUBNtqARpuN\n",
            "To: /content/sample2.json\n",
            "100% 18.0/18.0 [00:00<00:00, 49.2kB/s]\n"
          ]
        }
      ]
    },
    {
      "cell_type": "markdown",
      "source": [],
      "metadata": {
        "id": "jG6TgdTj0clZ"
      }
    },
    {
      "cell_type": "code",
      "source": [
        "#authenticate\n",
        "from google.colab import auth\n",
        "auth.authenticate_user()"
      ],
      "metadata": {
        "id": "4frTpOw90_Wj"
      },
      "execution_count": null,
      "outputs": []
    },
    {
      "cell_type": "markdown",
      "source": [
        "## Form and Interactions"
      ],
      "metadata": {
        "id": "YXTy7Bn612pR"
      }
    },
    {
      "cell_type": "code",
      "source": [
        "#@title Examples\n",
        "\n",
        "text = 'value' #@param\n",
        "date_input = '2018-03-22' #@param"
      ],
      "metadata": {
        "id": "36kj00fS17j7"
      },
      "execution_count": null,
      "outputs": []
    },
    {
      "cell_type": "markdown",
      "source": [
        "## How to get libraries ?"
      ],
      "metadata": {
        "id": "3Vt2xMPY2r3l"
      }
    },
    {
      "cell_type": "code",
      "source": [
        "!pip install matplotlib"
      ],
      "metadata": {
        "colab": {
          "base_uri": "https://localhost:8080/"
        },
        "id": "5Upsbz1i2vib",
        "outputId": "d6d3cd13-8f81-469a-ce41-951d6e6a7637"
      },
      "execution_count": null,
      "outputs": [
        {
          "output_type": "stream",
          "name": "stdout",
          "text": [
            "Requirement already satisfied: matplotlib in /usr/local/lib/python3.10/dist-packages (3.7.1)\n",
            "Requirement already satisfied: contourpy>=1.0.1 in /usr/local/lib/python3.10/dist-packages (from matplotlib) (1.3.0)\n",
            "Requirement already satisfied: cycler>=0.10 in /usr/local/lib/python3.10/dist-packages (from matplotlib) (0.12.1)\n",
            "Requirement already satisfied: fonttools>=4.22.0 in /usr/local/lib/python3.10/dist-packages (from matplotlib) (4.53.1)\n",
            "Requirement already satisfied: kiwisolver>=1.0.1 in /usr/local/lib/python3.10/dist-packages (from matplotlib) (1.4.5)\n",
            "Requirement already satisfied: numpy>=1.20 in /usr/local/lib/python3.10/dist-packages (from matplotlib) (1.26.4)\n",
            "Requirement already satisfied: packaging>=20.0 in /usr/local/lib/python3.10/dist-packages (from matplotlib) (24.1)\n",
            "Requirement already satisfied: pillow>=6.2.0 in /usr/local/lib/python3.10/dist-packages (from matplotlib) (9.4.0)\n",
            "Requirement already satisfied: pyparsing>=2.3.1 in /usr/local/lib/python3.10/dist-packages (from matplotlib) (3.1.4)\n",
            "Requirement already satisfied: python-dateutil>=2.7 in /usr/local/lib/python3.10/dist-packages (from matplotlib) (2.8.2)\n",
            "Requirement already satisfied: six>=1.5 in /usr/local/lib/python3.10/dist-packages (from python-dateutil>=2.7->matplotlib) (1.16.0)\n"
          ]
        }
      ]
    },
    {
      "cell_type": "markdown",
      "source": [
        "## Install permanently ?\n",
        "\n",
        "!pip install --target= $nb_path jdc"
      ],
      "metadata": {
        "id": "xFfytxeW3uo6"
      }
    },
    {
      "cell_type": "markdown",
      "source": [
        "##[Extra] Magic"
      ],
      "metadata": {
        "id": "yIFCiN3F4mDm"
      }
    },
    {
      "cell_type": "code",
      "source": [
        "# activate R magic\n",
        "%load_ext rpy2.ipython\n"
      ],
      "metadata": {
        "id": "bbg7Qr8P4peL"
      },
      "execution_count": null,
      "outputs": []
    },
    {
      "cell_type": "code",
      "source": [
        "%%R\n",
        "x <- 42\n",
        "print(x)"
      ],
      "metadata": {
        "colab": {
          "base_uri": "https://localhost:8080/"
        },
        "id": "T_PkppPt5Bql",
        "outputId": "d6c5b337-da21-4e03-bc39-801b94030d95"
      },
      "execution_count": null,
      "outputs": [
        {
          "output_type": "stream",
          "name": "stdout",
          "text": [
            "[1] 42\n"
          ]
        }
      ]
    },
    {
      "cell_type": "code",
      "source": [
        "from IPython.display import HTML, Image\n",
        "from google.colab.output import eval_js\n",
        "from base64 import b64decode"
      ],
      "metadata": {
        "id": "29-lFXdQ5tYI"
      },
      "execution_count": null,
      "outputs": []
    },
    {
      "cell_type": "code",
      "source": [
        "VIDEO_HTML = \"\"\"\n",
        "<video autoplay\n",
        " width=800 height=600></video>\n",
        "<script>\n",
        "var video = document.querySelector('video')\n",
        "navigator.mediaDevices.getUserMedia({ video: true })\n",
        "  .then(stream=> video.srcObject = stream)\n",
        "\n",
        "var data = new Promise(resolve=>{\n",
        "  video.onclick = ()=>{\n",
        "    var canvas = document.createElement('canvas')\n",
        "    var [w,h] = [video.offsetWidth, video.offsetHeight]\n",
        "    canvas.width = w\n",
        "    canvas.height = h\n",
        "    canvas.getContext('2d')\n",
        "          .drawImage(video, 0, 0, w, h)\n",
        "    video.srcObject.getVideoTracks()[0].stop()\n",
        "    video.replaceWith(canvas)\n",
        "    resolve(canvas.toDataURL('image/jpeg', %f))\n",
        "  }\n",
        "})\n",
        "</script>\n",
        "\"\"\""
      ],
      "metadata": {
        "id": "VEK50KgR68Td"
      },
      "execution_count": null,
      "outputs": []
    },
    {
      "cell_type": "code",
      "source": [
        "def take_photo(filename='photo.jpg', quality=0.8):\n",
        "  display(HTML(VIDEO_HTML % quality))\n",
        "  data = eval_js(\"data\")\n",
        "  binary = b64decode(data.split(',')[1])\n",
        "  with open(filename, 'wb') as f:\n",
        "    f.write(binary)\n",
        "  return len(binary)"
      ],
      "metadata": {
        "id": "otGj3bbF7AGN"
      },
      "execution_count": null,
      "outputs": []
    },
    {
      "cell_type": "code",
      "source": [
        "take_photo()"
      ],
      "metadata": {
        "colab": {
          "base_uri": "https://localhost:8080/",
          "height": 659
        },
        "id": "VCRfNz017CWP",
        "outputId": "aec6c2a8-1955-4403-bdb9-308f3bd8f465"
      },
      "execution_count": 52,
      "outputs": [
        {
          "output_type": "display_data",
          "data": {
            "text/plain": [
              "<IPython.core.display.HTML object>"
            ],
            "text/html": [
              "\n",
              "<video autoplay\n",
              " width=800 height=600></video>\n",
              "<script>\n",
              "var video = document.querySelector('video')\n",
              "navigator.mediaDevices.getUserMedia({ video: true })\n",
              "  .then(stream=> video.srcObject = stream)\n",
              "  \n",
              "var data = new Promise(resolve=>{\n",
              "  video.onclick = ()=>{\n",
              "    var canvas = document.createElement('canvas')\n",
              "    var [w,h] = [video.offsetWidth, video.offsetHeight]\n",
              "    canvas.width = w\n",
              "    canvas.height = h\n",
              "    canvas.getContext('2d')\n",
              "          .drawImage(video, 0, 0, w, h)\n",
              "    video.srcObject.getVideoTracks()[0].stop()\n",
              "    video.replaceWith(canvas)\n",
              "    resolve(canvas.toDataURL('image/jpeg', 0.800000))\n",
              "  }\n",
              "})\n",
              "</script>\n"
            ]
          },
          "metadata": {}
        },
        {
          "output_type": "execute_result",
          "data": {
            "text/plain": [
              "38259"
            ]
          },
          "metadata": {},
          "execution_count": 52
        }
      ]
    }
  ]
}