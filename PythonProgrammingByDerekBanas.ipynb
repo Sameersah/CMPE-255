{
  "nbformat": 4,
  "nbformat_minor": 0,
  "metadata": {
    "colab": {
      "provenance": [],
      "toc_visible": true,
      "authorship_tag": "ABX9TyO8HunWbiYH/yTqiS5LlvQg",
      "include_colab_link": true
    },
    "kernelspec": {
      "name": "python3",
      "display_name": "Python 3"
    },
    "language_info": {
      "name": "python"
    }
  },
  "cells": [
    {
      "cell_type": "markdown",
      "metadata": {
        "id": "view-in-github",
        "colab_type": "text"
      },
      "source": [
        "<a href=\"https://colab.research.google.com/github/Sameersah/CMPE-255/blob/main/PythonProgrammingByDerekBanas.ipynb\" target=\"_parent\"><img src=\"https://colab.research.google.com/assets/colab-badge.svg\" alt=\"Open In Colab\"/></a>"
      ]
    },
    {
      "cell_type": "markdown",
      "source": [
        "# Python Programming by Derek Banas\n",
        "\n",
        "https://www.youtube.com/watch?v=N4mEzFDjqtA&t=960s"
      ],
      "metadata": {
        "id": "2_TjCexiWDxZ"
      }
    },
    {
      "cell_type": "markdown",
      "source": [
        "Basics"
      ],
      "metadata": {
        "id": "Rl7o2NhxWkhs"
      }
    },
    {
      "cell_type": "code",
      "source": [
        "print(\"Hello World\")"
      ],
      "metadata": {
        "colab": {
          "base_uri": "https://localhost:8080/"
        },
        "id": "odxvOagPWeDb",
        "outputId": "231d9a18-d5ae-4080-8e10-e3467f2cf45a"
      },
      "execution_count": null,
      "outputs": [
        {
          "output_type": "stream",
          "name": "stdout",
          "text": [
            "Hello World\n"
          ]
        }
      ]
    },
    {
      "cell_type": "markdown",
      "source": [
        "## Comment"
      ],
      "metadata": {
        "id": "GS4jTNkEWw21"
      }
    },
    {
      "cell_type": "code",
      "source": [
        "# commnent sample"
      ],
      "metadata": {
        "id": "pRGHZ8TQW1PI"
      },
      "execution_count": null,
      "outputs": []
    },
    {
      "cell_type": "markdown",
      "source": [
        "multi line comment 3 single quotes"
      ],
      "metadata": {
        "id": "XcUtY4buW5Ek"
      }
    },
    {
      "cell_type": "code",
      "source": [
        "'''\n",
        "multi line\n",
        "\n",
        "comment\n",
        "'''"
      ],
      "metadata": {
        "colab": {
          "base_uri": "https://localhost:8080/",
          "height": 35
        },
        "id": "hnIV_XvLXAFw",
        "outputId": "1f3f4a36-8434-43d4-fc57-4910a55620f4"
      },
      "execution_count": null,
      "outputs": [
        {
          "output_type": "execute_result",
          "data": {
            "text/plain": [
              "'\\nmulti line \\n\\ncomment\\n'"
            ],
            "application/vnd.google.colaboratory.intrinsic+json": {
              "type": "string"
            }
          },
          "metadata": {},
          "execution_count": 13
        }
      ]
    },
    {
      "cell_type": "markdown",
      "source": [
        "you can store anything in a python variable"
      ],
      "metadata": {
        "id": "ZDercgXmXHTm"
      }
    },
    {
      "cell_type": "markdown",
      "source": [],
      "metadata": {
        "id": "tszoeO87VkI5"
      }
    },
    {
      "cell_type": "code",
      "source": [
        "name = \"sameer\"\n",
        "print(name)"
      ],
      "metadata": {
        "colab": {
          "base_uri": "https://localhost:8080/"
        },
        "id": "t_7jDz7dXBLC",
        "outputId": "f4513558-2875-4050-e3cc-f479a876fd02"
      },
      "execution_count": null,
      "outputs": [
        {
          "output_type": "stream",
          "name": "stdout",
          "text": [
            "sameer\n"
          ]
        }
      ]
    },
    {
      "cell_type": "markdown",
      "source": [
        "## Data Types\n",
        "\n",
        "There are 5 main data types in python.\n",
        "Numbers\n",
        "String\n",
        "List\n",
        "Tuples\n",
        "Dictionaries\n",
        "\n",
        "7 Arithmatic operators.\n",
        "+ addition +\n",
        "- subtraction -\n",
        "* multilication *\n",
        "* exponential calculation **\n",
        "* floor division \\\\\n",
        "\n"
      ],
      "metadata": {
        "id": "n6ZUhTB3aNpz"
      }
    },
    {
      "cell_type": "code",
      "source": [
        "# exponenent\n",
        "a = 5 ** 2\n",
        "print(a)"
      ],
      "metadata": {
        "colab": {
          "base_uri": "https://localhost:8080/"
        },
        "id": "D-C0_euTXWpf",
        "outputId": "61c9bc42-f9b9-44ff-e6ee-ec29a4c10bec"
      },
      "execution_count": 21,
      "outputs": [
        {
          "output_type": "stream",
          "name": "stdout",
          "text": [
            "25\n"
          ]
        }
      ]
    },
    {
      "cell_type": "code",
      "source": [
        "#floor devision\n",
        "a = 5//2\n",
        "print(a)"
      ],
      "metadata": {
        "colab": {
          "base_uri": "https://localhost:8080/"
        },
        "id": "NIccRxAobq1k",
        "outputId": "0c076fd4-e0c4-4a59-c2d9-d736aebeb9f3"
      },
      "execution_count": null,
      "outputs": [
        {
          "output_type": "stream",
          "name": "stdout",
          "text": [
            "2\n"
          ]
        }
      ]
    },
    {
      "cell_type": "code",
      "source": [
        "# actual division\n",
        "a = 5/2\n",
        "print(a)"
      ],
      "metadata": {
        "colab": {
          "base_uri": "https://localhost:8080/"
        },
        "id": "HUBXRV0Ob77c",
        "outputId": "582c5604-7a12-46b4-daac-55aa58d82a09"
      },
      "execution_count": null,
      "outputs": [
        {
          "output_type": "stream",
          "name": "stdout",
          "text": [
            "2.5\n"
          ]
        }
      ]
    },
    {
      "cell_type": "code",
      "source": [
        "# print statement\n",
        "a = 10\n",
        "print(\"this is text and variable print statement\",a)"
      ],
      "metadata": {
        "colab": {
          "base_uri": "https://localhost:8080/"
        },
        "id": "53q9dbc-ckpe",
        "outputId": "34d0355c-0696-4b76-e2d2-c8a95922979c"
      },
      "execution_count": null,
      "outputs": [
        {
          "output_type": "stream",
          "name": "stdout",
          "text": [
            "this is text and variable print statement 10\n"
          ]
        }
      ]
    },
    {
      "cell_type": "code",
      "source": [
        "# use underscore to name variables\n",
        "temp_variable = 100\n",
        "print(\"this is a temp_variable\",temp_variable)"
      ],
      "metadata": {
        "id": "HMNGsie2c541"
      },
      "execution_count": null,
      "outputs": []
    },
    {
      "cell_type": "code",
      "source": [
        "# multi line strings\n",
        "multi_line_quote = '''\n",
        "this is a multi line quote\n",
        "'''\n",
        "\n",
        "str = \"string 2\"\n"
      ],
      "metadata": {
        "colab": {
          "base_uri": "https://localhost:8080/"
        },
        "id": "PLeWRVQ1dFrE",
        "outputId": "b338c3c7-9d91-46f8-90a9-830d87028b43"
      },
      "execution_count": null,
      "outputs": [
        {
          "output_type": "stream",
          "name": "stdout",
          "text": [
            "\n",
            "\n",
            "\n",
            "\n",
            "\n",
            "\n"
          ]
        }
      ]
    },
    {
      "cell_type": "code",
      "source": [
        "# new lines\n",
        "\n",
        "print('\\n'*3)"
      ],
      "metadata": {
        "colab": {
          "base_uri": "https://localhost:8080/"
        },
        "id": "hzm1aMcoeVXq",
        "outputId": "872e8752-80e1-4137-82ac-ff72a4912bec"
      },
      "execution_count": null,
      "outputs": [
        {
          "output_type": "stream",
          "name": "stdout",
          "text": [
            "\n",
            "\n",
            "\n",
            "\n",
            "\n",
            "\n"
          ]
        }
      ]
    },
    {
      "cell_type": "markdown",
      "source": [
        "## List\n",
        "\n"
      ],
      "metadata": {
        "id": "sFvjxKnxeh9K"
      }
    },
    {
      "cell_type": "code",
      "source": [
        "# examples of list\n",
        "\n",
        "grocery_list = ['Juice', 'Tomatos','Potataos','Bananas']\n",
        "\n",
        "print('First Item', grocery_list[0])\n",
        "print('Second Item', grocery_list[1])\n",
        "print(\"fourth Item\", grocery_list[3])\n",
        "\n",
        "print('Part of the list,  first index included, 2nd excluded', grocery_list[1:3])\n"
      ],
      "metadata": {
        "colab": {
          "base_uri": "https://localhost:8080/"
        },
        "id": "AhI7ezt7ebIq",
        "outputId": "bc9b5d7a-dd0d-4cbd-a9c6-227949e8d81f"
      },
      "execution_count": null,
      "outputs": [
        {
          "output_type": "stream",
          "name": "stdout",
          "text": [
            "First Item Juice\n",
            "Second Item Tomatos\n",
            "fourth Item Bananas\n",
            "Part of the list,  first index included, 2nd excluded ['Tomatos', 'Potataos']\n"
          ]
        }
      ]
    },
    {
      "cell_type": "code",
      "source": [
        "# list of lists\n",
        "\n",
        "non_grocery_list = ['wash car', 'pick up kids', 'cash check']\n",
        "\n",
        "to_do_list = [non_grocery_list, grocery_list]\n",
        "\n",
        "print(\"to do list\", to_do_list)\n",
        "\n",
        "grocery_list.append('Onions')"
      ],
      "metadata": {
        "colab": {
          "base_uri": "https://localhost:8080/"
        },
        "id": "qFU0gJwkgXcZ",
        "outputId": "0c0831b6-c5af-4fdd-c253-c7f2a0687e65"
      },
      "execution_count": null,
      "outputs": [
        {
          "output_type": "stream",
          "name": "stdout",
          "text": [
            "to do list [['wash car', 'pick up kids', 'cash check'], ['Juice', 'Tomatos', 'Potataos', 'Bananas']]\n"
          ]
        }
      ]
    },
    {
      "cell_type": "code",
      "source": [
        "# operation on list\n",
        "\n",
        "print(\"original list is: \",grocery_list)\n",
        "grocery_list.append(\"watermelons\")\n",
        "print(\"updated grocery list is: \",grocery_list)\n",
        "\n",
        "grocery_list.insert(1,\"bread\")\n",
        "print(\"Updated list is: \",grocery_list)"
      ],
      "metadata": {
        "colab": {
          "base_uri": "https://localhost:8080/"
        },
        "id": "xpwfBpNniuTN",
        "outputId": "8582ca9d-4daf-40c1-ada8-d8384085a01e"
      },
      "execution_count": null,
      "outputs": [
        {
          "output_type": "stream",
          "name": "stdout",
          "text": [
            "original list is:  ['Juice', 'bread', 'bread', 'Tomatos', 'Potataos', 'Bananas', 'watermelons', 'watermelons', 'watermelons']\n",
            "updated grocery list is:  ['Juice', 'bread', 'bread', 'Tomatos', 'Potataos', 'Bananas', 'watermelons', 'watermelons', 'watermelons', 'watermelons']\n",
            "Updated list is:  ['Juice', 'bread', 'bread', 'bread', 'Tomatos', 'Potataos', 'Bananas', 'watermelons', 'watermelons', 'watermelons', 'watermelons']\n"
          ]
        }
      ]
    },
    {
      "cell_type": "code",
      "source": [
        "# duplicate entry\n",
        "grocery_list.append(\"watermelons\")\n",
        "print(grocery_list)"
      ],
      "metadata": {
        "colab": {
          "base_uri": "https://localhost:8080/"
        },
        "id": "X3hSg_Unk29N",
        "outputId": "6cbc8ab9-30fe-4545-a7f8-f148e2212e09"
      },
      "execution_count": null,
      "outputs": [
        {
          "output_type": "stream",
          "name": "stdout",
          "text": [
            "['Juice', 'bread', 'bread', 'bread', 'Tomatos', 'Potataos', 'Bananas', 'watermelons', 'watermelons', 'watermelons', 'watermelons', 'watermelons']\n"
          ]
        }
      ]
    },
    {
      "cell_type": "code",
      "source": [
        "# remove from list\n",
        "grocery_list.remove(\"Bananas\")\n",
        "print(\"Update list is: \",grocery_list)"
      ],
      "metadata": {
        "colab": {
          "base_uri": "https://localhost:8080/"
        },
        "id": "3_z0YzhZlL8E",
        "outputId": "a66a0036-6a6a-45e0-9813-438e242dce09"
      },
      "execution_count": null,
      "outputs": [
        {
          "output_type": "stream",
          "name": "stdout",
          "text": [
            "Update list is:  ['Juice', 'bread', 'bread', 'bread', 'Tomatos', 'Potataos']\n"
          ]
        }
      ]
    },
    {
      "cell_type": "code",
      "source": [
        "# multi variable types in list\n",
        "new_list = [\"sameer\",29]\n",
        "print(\"My name is\",new_list[0],\"and age is\",new_list[1])"
      ],
      "metadata": {
        "colab": {
          "base_uri": "https://localhost:8080/"
        },
        "id": "8cKW3Ftlqu7p",
        "outputId": "79458e32-0aab-44b6-b473-b60c03ddefa3"
      },
      "execution_count": null,
      "outputs": [
        {
          "output_type": "stream",
          "name": "stdout",
          "text": [
            "My name is sameer and age is 29\n"
          ]
        }
      ]
    },
    {
      "cell_type": "markdown",
      "source": [
        "## Tuple\n",
        "\n",
        "Similar to list that cannot be changed"
      ],
      "metadata": {
        "id": "nMaQGaRfqzmR"
      }
    },
    {
      "cell_type": "code",
      "source": [
        "pi_tuple = (\"sameer\",29,\"101 san fernando\")\n",
        "print(\"I stay at\", pi_tuple[2])"
      ],
      "metadata": {
        "colab": {
          "base_uri": "https://localhost:8080/"
        },
        "id": "9tkN8rp_q5ms",
        "outputId": "34fd8cfe-99c8-491a-eeb4-a6d95b816426"
      },
      "execution_count": null,
      "outputs": [
        {
          "output_type": "stream",
          "name": "stdout",
          "text": [
            "I stay at 101 san fernando\n"
          ]
        }
      ]
    },
    {
      "cell_type": "code",
      "source": [
        "\n",
        "pi_tuple = (100,200,300,20,50)\n",
        "\n",
        "length = len(pi_tuple)\n",
        "max = max(pi_tuple)\n",
        "min = min(pi_tuple)\n",
        "print(\"length,min and max of tuple here is\",length,\",\",max,\",\",min)"
      ],
      "metadata": {
        "colab": {
          "base_uri": "https://localhost:8080/"
        },
        "id": "I4eXnEaMrv6a",
        "outputId": "0e27fba7-260b-4c43-c5b8-b53e192ffded"
      },
      "execution_count": null,
      "outputs": [
        {
          "output_type": "stream",
          "name": "stdout",
          "text": [
            "length,min and max of tuple here is 5 , 300 , 20\n"
          ]
        }
      ]
    },
    {
      "cell_type": "code",
      "source": [],
      "metadata": {
        "id": "T6UEQKxtsFKn"
      },
      "execution_count": null,
      "outputs": []
    },
    {
      "cell_type": "markdown",
      "source": [
        "## Dictinory\n",
        "\n",
        "basically hash table"
      ],
      "metadata": {
        "id": "gw-PXPZWsqgw"
      }
    },
    {
      "cell_type": "code",
      "source": [
        "super_villains = {\"key1\":\"value1\",\"key2\":\"value2\"}\n",
        "\n",
        "print(super_villains[\"key1\"])\n",
        "print(super_villains.get(\"key2\"))\n"
      ],
      "metadata": {
        "colab": {
          "base_uri": "https://localhost:8080/"
        },
        "id": "aCQ1qLvYs7O7",
        "outputId": "9bf04e5a-9fb8-49eb-842e-1926765f5b32"
      },
      "execution_count": null,
      "outputs": [
        {
          "output_type": "stream",
          "name": "stdout",
          "text": [
            "value1\n",
            "value2\n"
          ]
        }
      ]
    },
    {
      "cell_type": "markdown",
      "source": [
        "## conditionals\n"
      ],
      "metadata": {
        "id": "l2PGQC_y21ng"
      }
    },
    {
      "cell_type": "code",
      "source": [
        "age = 12\n",
        "\n",
        "if age > 16:\n",
        "  print(\"you are old enough to drive!\")\n",
        "elif age > 10:\n",
        "  print(\"You need to wait for 6 more years aprox.\")\n",
        "\n",
        "\n",
        "# and, not"
      ],
      "metadata": {
        "colab": {
          "base_uri": "https://localhost:8080/"
        },
        "id": "5JcNaYR525cv",
        "outputId": "195e9d3a-ddd5-4baa-ae0f-35ef45055a39"
      },
      "execution_count": null,
      "outputs": [
        {
          "output_type": "stream",
          "name": "stdout",
          "text": [
            "You need to wait for 6 more years aprox.\n"
          ]
        }
      ]
    },
    {
      "cell_type": "markdown",
      "source": [
        "## looping\n",
        "\n"
      ],
      "metadata": {
        "id": "SG22_EG53vuo"
      }
    },
    {
      "cell_type": "code",
      "source": [
        "# 10 times\n",
        "\n",
        "for x in range(0,10):\n",
        "  print(x)\n",
        "\n",
        "\n"
      ],
      "metadata": {
        "colab": {
          "base_uri": "https://localhost:8080/"
        },
        "id": "6CjvtBG_3yKN",
        "outputId": "7254506b-f09d-48ad-fd9f-a107f9b4c958"
      },
      "execution_count": null,
      "outputs": [
        {
          "output_type": "stream",
          "name": "stdout",
          "text": [
            "0\n",
            "1\n",
            "2\n",
            "3\n",
            "4\n",
            "5\n",
            "6\n",
            "7\n",
            "8\n",
            "9\n"
          ]
        }
      ]
    },
    {
      "cell_type": "code",
      "source": [],
      "metadata": {
        "id": "7OVz1d2J3jqw"
      },
      "execution_count": null,
      "outputs": []
    },
    {
      "cell_type": "code",
      "source": [
        "#double loop\n",
        "\n",
        "num_list = [[1,2,3],[10,20,30],[100,200,300]]\n",
        "\n",
        "for x in range(0,3):\n",
        "  for y in range (0,3):\n",
        "    print(num_list[x][y])"
      ],
      "metadata": {
        "colab": {
          "base_uri": "https://localhost:8080/"
        },
        "id": "5zYUmIla0Erh",
        "outputId": "bee22338-362e-41fc-8ca7-1a6a52e81fad"
      },
      "execution_count": 1,
      "outputs": [
        {
          "output_type": "stream",
          "name": "stdout",
          "text": [
            "1\n",
            "2\n",
            "3\n",
            "10\n",
            "20\n",
            "30\n",
            "100\n",
            "200\n",
            "300\n"
          ]
        }
      ]
    },
    {
      "cell_type": "code",
      "source": [
        "# while loop\n",
        "import random\n",
        "\n",
        "i = 0\n",
        "\n",
        "while(i<=20):\n",
        "  print(\"i: \",i)\n",
        "  i = i+1"
      ],
      "metadata": {
        "colab": {
          "base_uri": "https://localhost:8080/"
        },
        "id": "ku1tQwCS0l10",
        "outputId": "688ab66d-d96f-42ba-b20d-449c829bac95"
      },
      "execution_count": 4,
      "outputs": [
        {
          "output_type": "stream",
          "name": "stdout",
          "text": [
            "i:  0\n",
            "i:  1\n",
            "i:  2\n",
            "i:  3\n",
            "i:  4\n",
            "i:  5\n",
            "i:  6\n",
            "i:  7\n",
            "i:  8\n",
            "i:  9\n",
            "i:  10\n",
            "i:  11\n",
            "i:  12\n",
            "i:  13\n",
            "i:  14\n",
            "i:  15\n",
            "i:  16\n",
            "i:  17\n",
            "i:  18\n",
            "i:  19\n",
            "i:  20\n"
          ]
        }
      ]
    },
    {
      "cell_type": "code",
      "source": [],
      "metadata": {
        "id": "c0jltywA1p2L"
      },
      "execution_count": null,
      "outputs": []
    },
    {
      "cell_type": "markdown",
      "source": [
        "## Function"
      ],
      "metadata": {
        "id": "btPkXfKu1qyR"
      }
    },
    {
      "cell_type": "code",
      "source": [],
      "metadata": {
        "id": "3Dk9kW4Q1sht"
      },
      "execution_count": null,
      "outputs": []
    },
    {
      "cell_type": "markdown",
      "source": [
        "## Functions"
      ],
      "metadata": {
        "id": "bff4jTBu1xBc"
      }
    },
    {
      "cell_type": "code",
      "source": [
        "def function1(x,y):\n",
        "  return x+y\n",
        "\n",
        "result = function1(10,12)\n",
        "print(\"result: \",result)"
      ],
      "metadata": {
        "colab": {
          "base_uri": "https://localhost:8080/"
        },
        "id": "edDvTuaXJl_x",
        "outputId": "7b7c3112-3c70-4cf3-d9d8-168ce3947615"
      },
      "execution_count": 5,
      "outputs": [
        {
          "output_type": "stream",
          "name": "stdout",
          "text": [
            "result:  22\n"
          ]
        }
      ]
    },
    {
      "cell_type": "markdown",
      "source": [
        "## Input"
      ],
      "metadata": {
        "id": "Bppa_U7AJ5CN"
      }
    },
    {
      "cell_type": "code",
      "source": [
        "import sys\n",
        "\n",
        "input = sys.stdin.readline()\n",
        "print(\"input is: \",input)"
      ],
      "metadata": {
        "colab": {
          "base_uri": "https://localhost:8080/"
        },
        "id": "yaW2475HJ7Zq",
        "outputId": "b6936d06-1ed7-41e2-b006-1a9fe54585ec"
      },
      "execution_count": 7,
      "outputs": [
        {
          "output_type": "stream",
          "name": "stdout",
          "text": [
            "input is:  \n"
          ]
        }
      ]
    },
    {
      "cell_type": "markdown",
      "source": [
        "## File IO\n"
      ],
      "metadata": {
        "id": "1Ov8f_2xKfHE"
      }
    },
    {
      "cell_type": "code",
      "source": [
        "test_file = open(\"text.txt\",\"wb\")\n",
        "print(test_file.mode)\n"
      ],
      "metadata": {
        "colab": {
          "base_uri": "https://localhost:8080/"
        },
        "id": "j4tu591vKioW",
        "outputId": "d493cff4-1409-48cc-9f74-bf4f720d8410"
      },
      "execution_count": 9,
      "outputs": [
        {
          "output_type": "stream",
          "name": "stdout",
          "text": [
            "wb\n"
          ]
        }
      ]
    },
    {
      "cell_type": "markdown",
      "source": [
        "## Objects\n",
        "\n"
      ],
      "metadata": {
        "id": "wt6oFay0LCw5"
      }
    },
    {
      "cell_type": "code",
      "source": [
        "class Animal:\n",
        "  __name = \"\"\n",
        "  __height = 0\n",
        "  __weight = 0\n",
        "\n",
        "  def __init__(self,name,height,weight):\n",
        "    self.__name = name\n",
        "    self.__height = height\n",
        "    self.__weight = weight\n",
        "\n",
        "\n",
        "  def set_name(self,name):\n",
        "    self.__name = name\n",
        "\n",
        "  def get_name(self):\n",
        "    return self.__name\n",
        "\n",
        "  def set_height(self,height):\n",
        "    self.__height = height\n",
        "\n",
        "  def get_height(self):\n",
        "    return self.__height\n",
        "\n",
        "  def set_weight(self,weight):\n",
        "    self.__weight = weight\n",
        "\n",
        "  def get_weight(self):\n",
        "    return self.__weight\n",
        "\n",
        "  def get_type(self):\n",
        "    return \"Animal\"\n",
        "\n",
        "\n",
        "\n",
        "cat = Animal(\"cat1\",20,30)\n",
        "print(cat.get_name())\n",
        "\n",
        "\n",
        "\n",
        "\n",
        "\n",
        "\n",
        "\n",
        "\n",
        "\n",
        "\n",
        "\n",
        "\n"
      ],
      "metadata": {
        "colab": {
          "base_uri": "https://localhost:8080/"
        },
        "id": "_o7ma-ZXLJG6",
        "outputId": "0ceb54d0-ee63-4107-c543-2f7022d8be2d"
      },
      "execution_count": 15,
      "outputs": [
        {
          "output_type": "stream",
          "name": "stdout",
          "text": [
            "cat1\n"
          ]
        }
      ]
    },
    {
      "cell_type": "markdown",
      "source": [
        "## Method OverLoading"
      ],
      "metadata": {
        "id": "ap4CxlZRO_iQ"
      }
    },
    {
      "cell_type": "code",
      "source": [
        "class class1:\n",
        "  __a = None\n",
        "  __b = None\n",
        "  __c = None\n",
        "\n",
        "  def __init__(self,a,b,c):\n",
        "    self.__a = a\n",
        "    self.__b = b\n",
        "    self.__c = c\n",
        "\n",
        "  def set_a(self,a):\n",
        "    self.__a = a\n",
        "\n",
        "  def set_b(self,b):\n",
        "    self.__b = b\n",
        "\n",
        "  def set_c(self,c):\n",
        "    self.__c = c\n",
        "\n",
        "  def get_c(self):\n",
        "    return self.__c\n",
        "\n",
        "  def get_a(self):\n",
        "    return self.__a\n",
        "\n",
        "  def get_b(self):\n",
        "    return self.__b\n",
        "\n",
        "\n",
        "\n",
        "class class2(class1):\n",
        "    __d = None\n",
        "\n",
        "    def __init__(self,a,b,c,d):\n",
        "      self.__d = d\n",
        "      super(class2,self).__init__(a,b,c)\n",
        "\n",
        "    def get_d(self):\n",
        "      return self.__d\n",
        "\n",
        "\n",
        "object1 = class2(\"a\",\"b\",\"c\",\"d\")\n",
        "print(object1.get_d())\n",
        "\n"
      ],
      "metadata": {
        "colab": {
          "base_uri": "https://localhost:8080/"
        },
        "id": "dm3ppCpSPDp5",
        "outputId": "bb2763f1-11f6-4c37-9918-1b795e10999d"
      },
      "execution_count": 20,
      "outputs": [
        {
          "output_type": "stream",
          "name": "stdout",
          "text": [
            "d\n"
          ]
        }
      ]
    }
  ]
}